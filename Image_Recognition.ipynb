{
  "nbformat": 4,
  "nbformat_minor": 0,
  "metadata": {
    "colab": {
      "name": "Image Recognition.ipynb",
      "provenance": [],
      "collapsed_sections": [],
      "authorship_tag": "ABX9TyPAwfJ6/E7U5fVA7gA/ugiq",
      "include_colab_link": true
    },
    "kernelspec": {
      "name": "python3",
      "display_name": "Python 3"
    }
  },
  "cells": [
    {
      "cell_type": "markdown",
      "metadata": {
        "id": "view-in-github",
        "colab_type": "text"
      },
      "source": [
        "<a href=\"https://colab.research.google.com/github/rkstrdee/Deep-Learning-1.0/blob/main/Image_Recognition.ipynb\" target=\"_parent\"><img src=\"https://colab.research.google.com/assets/colab-badge.svg\" alt=\"Open In Colab\"/></a>"
      ]
    },
    {
      "cell_type": "code",
      "metadata": {
        "id": "rJbvzT-e1Uki"
      },
      "source": [
        ""
      ],
      "execution_count": null,
      "outputs": []
    },
    {
      "cell_type": "markdown",
      "metadata": {
        "id": "s981bJmD1VsE"
      },
      "source": [
        "# My Exp at Image Recognition\n",
        "## Experiment 1 Using Keras and Tensorflow\n"
      ]
    },
    {
      "cell_type": "code",
      "metadata": {
        "id": "M3L9Z9Lm1FGj"
      },
      "source": [
        "import numpy as np\n",
        "import tensorflow as tf\n",
        "from tensorflow.keras import layers"
      ],
      "execution_count": 13,
      "outputs": []
    },
    {
      "cell_type": "code",
      "metadata": {
        "id": "kLQSkFmN1iuI",
        "colab": {
          "base_uri": "https://localhost:8080/"
        },
        "outputId": "bd72e161-58a7-4d08-f81f-73e58ab14087"
      },
      "source": [
        "num_classes = 10\n",
        "input_shape = (28,28,1)\n",
        "\n",
        "(x_train, y_train),(x_test , y_test) = keras.datasets.mnist.load_data()\n",
        "\n",
        "#scale images\n",
        "x_train = x_train.astype(\"float32\")/255\n",
        "x_test = x_test.astype(\"float32\")/255\n",
        "\n",
        "# keep the dimension which is the dimension of x_train and figure out the other dimension\n",
        "# in this example x_train is is being re-fed as the size which means that it'll just add another dimesnion\n",
        "# hence the size changes from (60000,28,28) to (60000,28.28,1)\n",
        "x_train = np.expand_dims(x_train,-1)\n",
        "x_test = np.expand_dims(x_test,-1)\n",
        "\n",
        "print(\"x_train.shape : \",x_train.shape)\n",
        "print(x_train.shape[0], \"training examples\")\n",
        "print(x_test.shape[0], \"test samples\")\n",
        "\n",
        "y_train = keras.utils.to_categorical(y_train,num_classes)\n",
        "y_test = keras.utils.to_categorical(y_test,num_classes)"
      ],
      "execution_count": 10,
      "outputs": [
        {
          "output_type": "stream",
          "text": [
            "x_train.shape :  (60000, 28, 28, 1)\n",
            "60000 training examples\n",
            "10000 test samples\n"
          ],
          "name": "stdout"
        }
      ]
    },
    {
      "cell_type": "markdown",
      "metadata": {
        "id": "oym-AJZ273nE"
      },
      "source": [
        "#**Building the Model**"
      ]
    },
    {
      "cell_type": "code",
      "metadata": {
        "colab": {
          "base_uri": "https://localhost:8080/"
        },
        "id": "6Vx22HaL8BJs",
        "outputId": "adc83d43-11bf-42be-85ca-84d32aeb5eee"
      },
      "source": [
        "model = keras.Sequential(\n",
        "    [\n",
        "     keras.Input(shape=input_shape),\n",
        "     layers.Conv2D(32,kernel_size=(3,3),activation=\"relu\"),\n",
        "     layers.MaxPooling2D(pool_size=(2,2)),\n",
        "     layers.Conv2D(64,kernel_size=(3,3),activation=\"relu\"),\n",
        "     layers.MaxPooling2D(pool_size=(2,2)),\n",
        "     layers.Flatten(),\n",
        "     layers.Dropout(0.5),\n",
        "     layers.Dense(num_classes,activation=\"softmax\"),\n",
        "    ]\n",
        ")\n",
        "\n",
        "model.summary()"
      ],
      "execution_count": 16,
      "outputs": [
        {
          "output_type": "stream",
          "text": [
            "Model: \"sequential\"\n",
            "_________________________________________________________________\n",
            "Layer (type)                 Output Shape              Param #   \n",
            "=================================================================\n",
            "conv2d_3 (Conv2D)            (None, 26, 26, 32)        320       \n",
            "_________________________________________________________________\n",
            "max_pooling2d_3 (MaxPooling2 (None, 13, 13, 32)        0         \n",
            "_________________________________________________________________\n",
            "conv2d_4 (Conv2D)            (None, 11, 11, 64)        18496     \n",
            "_________________________________________________________________\n",
            "max_pooling2d_4 (MaxPooling2 (None, 5, 5, 64)          0         \n",
            "_________________________________________________________________\n",
            "flatten_1 (Flatten)          (None, 1600)              0         \n",
            "_________________________________________________________________\n",
            "dropout_1 (Dropout)          (None, 1600)              0         \n",
            "_________________________________________________________________\n",
            "dense_1 (Dense)              (None, 10)                16010     \n",
            "=================================================================\n",
            "Total params: 34,826\n",
            "Trainable params: 34,826\n",
            "Non-trainable params: 0\n",
            "_________________________________________________________________\n"
          ],
          "name": "stdout"
        }
      ]
    },
    {
      "cell_type": "markdown",
      "metadata": {
        "id": "eRjUm200_pyf"
      },
      "source": [
        "#**Train the Model**"
      ]
    },
    {
      "cell_type": "code",
      "metadata": {
        "colab": {
          "base_uri": "https://localhost:8080/"
        },
        "id": "FZAkJbvB_mBb",
        "outputId": "e26a7c5f-4a6b-4118-9cf3-c7902f1780bb"
      },
      "source": [
        "batch_size = 128\n",
        "epochs = 20\n",
        "model.compile(loss=\"categorical_crossentropy\", optimizer=\"adam\", metrics=[\"accuracy\"])\n",
        "model.fit(x_train,y_train,batch_size=batch_size,epochs=epochs,validation_split=0.1)"
      ],
      "execution_count": 20,
      "outputs": [
        {
          "output_type": "stream",
          "text": [
            "Epoch 1/20\n",
            "422/422 [==============================] - 40s 95ms/step - loss: 0.0411 - accuracy: 0.9869 - val_loss: 0.0305 - val_accuracy: 0.9915\n",
            "Epoch 2/20\n",
            "422/422 [==============================] - 40s 94ms/step - loss: 0.0393 - accuracy: 0.9868 - val_loss: 0.0324 - val_accuracy: 0.9912\n",
            "Epoch 3/20\n",
            "422/422 [==============================] - 39s 93ms/step - loss: 0.0338 - accuracy: 0.9883 - val_loss: 0.0333 - val_accuracy: 0.9913\n",
            "Epoch 4/20\n",
            "422/422 [==============================] - 40s 94ms/step - loss: 0.0340 - accuracy: 0.9893 - val_loss: 0.0363 - val_accuracy: 0.9903\n",
            "Epoch 5/20\n",
            "422/422 [==============================] - 41s 96ms/step - loss: 0.0340 - accuracy: 0.9887 - val_loss: 0.0297 - val_accuracy: 0.9920\n",
            "Epoch 6/20\n",
            "422/422 [==============================] - 40s 94ms/step - loss: 0.0312 - accuracy: 0.9887 - val_loss: 0.0333 - val_accuracy: 0.9917\n",
            "Epoch 7/20\n",
            "422/422 [==============================] - 39s 93ms/step - loss: 0.0322 - accuracy: 0.9893 - val_loss: 0.0305 - val_accuracy: 0.9925\n",
            "Epoch 8/20\n",
            "422/422 [==============================] - 39s 93ms/step - loss: 0.0304 - accuracy: 0.9897 - val_loss: 0.0292 - val_accuracy: 0.9923\n",
            "Epoch 9/20\n",
            "422/422 [==============================] - 39s 93ms/step - loss: 0.0279 - accuracy: 0.9908 - val_loss: 0.0280 - val_accuracy: 0.9925\n",
            "Epoch 10/20\n",
            "422/422 [==============================] - 39s 93ms/step - loss: 0.0276 - accuracy: 0.9912 - val_loss: 0.0280 - val_accuracy: 0.9930\n",
            "Epoch 11/20\n",
            "422/422 [==============================] - 39s 93ms/step - loss: 0.0252 - accuracy: 0.9907 - val_loss: 0.0309 - val_accuracy: 0.9935\n",
            "Epoch 12/20\n",
            "422/422 [==============================] - 39s 93ms/step - loss: 0.0263 - accuracy: 0.9908 - val_loss: 0.0285 - val_accuracy: 0.9920\n",
            "Epoch 13/20\n",
            "422/422 [==============================] - 41s 96ms/step - loss: 0.0232 - accuracy: 0.9919 - val_loss: 0.0288 - val_accuracy: 0.9917\n",
            "Epoch 14/20\n",
            "422/422 [==============================] - 40s 94ms/step - loss: 0.0247 - accuracy: 0.9915 - val_loss: 0.0290 - val_accuracy: 0.9927\n",
            "Epoch 15/20\n",
            "422/422 [==============================] - 40s 95ms/step - loss: 0.0226 - accuracy: 0.9925 - val_loss: 0.0314 - val_accuracy: 0.9927\n",
            "Epoch 16/20\n",
            "422/422 [==============================] - 40s 95ms/step - loss: 0.0193 - accuracy: 0.9934 - val_loss: 0.0291 - val_accuracy: 0.9930\n",
            "Epoch 17/20\n",
            "422/422 [==============================] - 40s 95ms/step - loss: 0.0222 - accuracy: 0.9923 - val_loss: 0.0296 - val_accuracy: 0.9927\n",
            "Epoch 18/20\n",
            "422/422 [==============================] - 40s 94ms/step - loss: 0.0213 - accuracy: 0.9921 - val_loss: 0.0303 - val_accuracy: 0.9932\n",
            "Epoch 19/20\n",
            "422/422 [==============================] - 40s 95ms/step - loss: 0.0205 - accuracy: 0.9928 - val_loss: 0.0277 - val_accuracy: 0.9938\n",
            "Epoch 20/20\n",
            "422/422 [==============================] - 40s 95ms/step - loss: 0.0202 - accuracy: 0.9934 - val_loss: 0.0272 - val_accuracy: 0.9937\n"
          ],
          "name": "stdout"
        },
        {
          "output_type": "execute_result",
          "data": {
            "text/plain": [
              "<tensorflow.python.keras.callbacks.History at 0x7f6986467668>"
            ]
          },
          "metadata": {
            "tags": []
          },
          "execution_count": 20
        }
      ]
    },
    {
      "cell_type": "markdown",
      "metadata": {
        "id": "9gALtubkCCuL"
      },
      "source": [
        "#**Testing**"
      ]
    },
    {
      "cell_type": "code",
      "metadata": {
        "colab": {
          "base_uri": "https://localhost:8080/"
        },
        "id": "m1Lu-TEFCJHn",
        "outputId": "67942d72-c53b-4db6-aba2-5b22febf435e"
      },
      "source": [
        "score = model.evaluate(x_test,y_test,verbose=1)\n",
        "print(\"Test Loss\", score[0])\n",
        "print(\"Test acuracy: \", score[1])"
      ],
      "execution_count": 21,
      "outputs": [
        {
          "output_type": "stream",
          "text": [
            "313/313 [==============================] - 3s 10ms/step - loss: 0.0235 - accuracy: 0.9920\n",
            "Test Loss 0.023549268022179604\n",
            "Test acuracy:  0.9919999837875366\n"
          ],
          "name": "stdout"
        }
      ]
    },
    {
      "cell_type": "markdown",
      "metadata": {
        "id": "PExBrcfsLiHY"
      },
      "source": [
        "# **Saving the model for later use**"
      ]
    },
    {
      "cell_type": "code",
      "metadata": {
        "id": "FBz5MWn-LN_g"
      },
      "source": [
        "model.save(\"digit_classifier.h5\")  # we can save the model and reload it at anytime in the future\n",
        "new_model = tf.keras.models.load_model('digit_classifier.h5')"
      ],
      "execution_count": 22,
      "outputs": []
    },
    {
      "cell_type": "code",
      "metadata": {
        "colab": {
          "base_uri": "https://localhost:8080/"
        },
        "id": "Lb0zfRvpLVGU",
        "outputId": "f26d791f-ef21-4f43-eabe-ec17347fa7cb"
      },
      "source": [
        "score1 = new_model.evaluate(x_test,y_test,verbose=1)\n",
        "print(\"Test Loss\", score1[0])\n",
        "print(\"Test acuracy: \", score1[1])"
      ],
      "execution_count": 23,
      "outputs": [
        {
          "output_type": "stream",
          "text": [
            "313/313 [==============================] - 3s 9ms/step - loss: 0.0235 - accuracy: 0.9920\n",
            "Test Loss 0.023549268022179604\n",
            "Test acuracy:  0.9919999837875366\n"
          ],
          "name": "stdout"
        }
      ]
    }
  ]
}